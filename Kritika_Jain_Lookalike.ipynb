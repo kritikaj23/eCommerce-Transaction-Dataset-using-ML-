{
  "nbformat": 4,
  "nbformat_minor": 0,
  "metadata": {
    "colab": {
      "provenance": []
    },
    "kernelspec": {
      "name": "python3",
      "display_name": "Python 3"
    },
    "language_info": {
      "name": "python"
    }
  },
  "cells": [
    {
      "cell_type": "code",
      "source": [
        "import pandas as pd\n",
        "from sklearn.metrics.pairwise import cosine_similarity"
      ],
      "metadata": {
        "id": "ZOd2gKl5xIJ-"
      },
      "execution_count": 78,
      "outputs": []
    },
    {
      "cell_type": "code",
      "source": [
        "customers= pd.read_csv('/content/Customers.csv')"
      ],
      "metadata": {
        "id": "RBzVyS1wxRY0"
      },
      "execution_count": 79,
      "outputs": []
    },
    {
      "cell_type": "code",
      "source": [
        "products= pd.read_csv('/content/Products.csv')"
      ],
      "metadata": {
        "id": "yh9U70n4xchy"
      },
      "execution_count": 80,
      "outputs": []
    },
    {
      "cell_type": "code",
      "source": [
        "transactions= pd.read_csv('/content/Transactions.csv')"
      ],
      "metadata": {
        "id": "GS5toKZ9xeh6"
      },
      "execution_count": 81,
      "outputs": []
    },
    {
      "cell_type": "code",
      "source": [
        "data = transactions.merge(customers, on='CustomerID',how='left').merge(products, on='ProductID',how='left')"
      ],
      "metadata": {
        "id": "PCAvxRXBxiCh"
      },
      "execution_count": 82,
      "outputs": []
    },
    {
      "cell_type": "code",
      "source": [
        "customer_transactions = data.groupby(['CustomerID', 'ProductID'])['Quantity'].sum().unstack(fill_value=0)"
      ],
      "metadata": {
        "id": "Z-3Ik5nixvpZ"
      },
      "execution_count": 83,
      "outputs": []
    },
    {
      "cell_type": "code",
      "source": [
        "similarity_matrix = cosine_similarity(customer_transactions)"
      ],
      "metadata": {
        "id": "THDM7jjqydV7"
      },
      "execution_count": 84,
      "outputs": []
    },
    {
      "cell_type": "code",
      "source": [
        "similarity_df = pd.DataFrame(similarity_matrix, index=customer_transactions.index, columns=customer_transactions.index)"
      ],
      "metadata": {
        "id": "v1RH-PHoyhsv"
      },
      "execution_count": 85,
      "outputs": []
    },
    {
      "cell_type": "code",
      "source": [
        "#recommended top 3 similar customer\n",
        "def recommend_similar_customers(input_customer_id, similarity_df):\n",
        "    # Validate if the customer ID exists\n",
        "    if input_customer_id not in similarity_df.index:\n",
        "        return f\"CustomerID {input_customer_id} not found in the dataset. Please check the input.\"\n",
        "\n",
        "    # Compute top 3 similar customers excluding the customer itself\n",
        "    similar_customers = similarity_df.loc[input_customer_id].sort_values(ascending=False)[1:4]  # Exclude self\n",
        "    recommendations = [\n",
        "        {\"CustomerID\": cust_id, \"SimilarityScore\": round(score, 3)}\n",
        "        for cust_id, score in zip(similar_customers.index, similar_customers.values)\n",
        "    ]\n",
        "    return recommendations"
      ],
      "metadata": {
        "id": "a6DL7VF3ykzc"
      },
      "execution_count": 86,
      "outputs": []
    },
    {
      "cell_type": "code",
      "source": [
        "user_input= input(\"Enter CustomerID: \").strip()\n",
        "print(\"\\nTop 3 similar customers:\")\n",
        "if isinstance(recommendations, str):  # If the function returned an error message\n",
        "    print(recommendations)\n",
        "else:\n",
        "    for idx, rec in enumerate(recommendations, start=1):\n",
        "        print(f\"{idx}. CustomerID: {rec['CustomerID']}, Similarity Score: {rec['SimilarityScore']}\")"
      ],
      "metadata": {
        "colab": {
          "base_uri": "https://localhost:8080/"
        },
        "id": "3rYj-DSB2Q1Q",
        "outputId": "3cb9d4e9-bf30-47ad-e1cc-746347db8747"
      },
      "execution_count": 87,
      "outputs": [
        {
          "output_type": "stream",
          "name": "stdout",
          "text": [
            "Enter CustomerID: C0001\n",
            "\n",
            "Top 3 similar customers:\n",
            "1. CustomerID: C0026, Similarity Score: 0.617\n",
            "2. CustomerID: C0007, Similarity Score: 0.588\n",
            "3. CustomerID: C0104, Similarity Score: 0.489\n"
          ]
        }
      ]
    },
    {
      "cell_type": "code",
      "source": [
        "lookalike_recommendations = []"
      ],
      "metadata": {
        "id": "GDkL3wJbOiz9"
      },
      "execution_count": 88,
      "outputs": []
    },
    {
      "cell_type": "code",
      "source": [
        "for customer_id in similarity_df.index[:20]:\n",
        "    recommendations = recommend_similar_customers(customer_id, similarity_df)\n",
        "    if isinstance(recommendations, list):  # If recommendations are valid\n",
        "        for rec in recommendations:\n",
        "            lookalike_recommendations.append({\n",
        "                \"InputCustomerID\": customer_id,\n",
        "                \"LookalikeCustomerID\": rec[\"CustomerID\"],\n",
        "                \"SimilarityScore\": rec[\"SimilarityScore\"]\n",
        "            })"
      ],
      "metadata": {
        "id": "E9tJOzw_OnrN"
      },
      "execution_count": 89,
      "outputs": []
    },
    {
      "cell_type": "code",
      "source": [
        "lookalike_df = pd.DataFrame(lookalike_recommendations)"
      ],
      "metadata": {
        "id": "ppVCBn78OtFJ"
      },
      "execution_count": 90,
      "outputs": []
    },
    {
      "cell_type": "code",
      "source": [
        "lookalike_df.to_csv('Kritika_Jain_Lookalike.csv', index=False)"
      ],
      "metadata": {
        "id": "4lW4-NrgOwUg"
      },
      "execution_count": 91,
      "outputs": []
    },
    {
      "cell_type": "code",
      "source": [
        "print(\"\\nThe lookalike recommendations for the first 20 customers have been saved to Kritika_Jain_Lookalike.csv.\")"
      ],
      "metadata": {
        "colab": {
          "base_uri": "https://localhost:8080/"
        },
        "id": "YdEsKJA-Pf8e",
        "outputId": "96980b0e-dcc2-41fe-c614-1c743b42cf52"
      },
      "execution_count": 92,
      "outputs": [
        {
          "output_type": "stream",
          "name": "stdout",
          "text": [
            "\n",
            "The lookalike recommendations for the first 20 customers have been saved to Kritika_Jain_Lookalike.csv.\n"
          ]
        }
      ]
    }
  ]
}