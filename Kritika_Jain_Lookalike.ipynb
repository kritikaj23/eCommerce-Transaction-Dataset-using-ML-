{
  "nbformat": 4,
  "nbformat_minor": 0,
  "metadata": {
    "colab": {
      "provenance": []
    },
    "kernelspec": {
      "name": "python3",
      "display_name": "Python 3"
    },
    "language_info": {
      "name": "python"
    }
  },
  "cells": [
    {
      "cell_type": "code",
      "source": [
        "import pandas as pd\n",
        "from sklearn.metrics.pairwise import cosine_similarity"
      ],
      "metadata": {
        "id": "ZOd2gKl5xIJ-"
      },
      "execution_count": 54,
      "outputs": []
    },
    {
      "cell_type": "code",
      "source": [
        "customers= pd.read_csv('/content/Customers.csv')"
      ],
      "metadata": {
        "id": "RBzVyS1wxRY0"
      },
      "execution_count": 55,
      "outputs": []
    },
    {
      "cell_type": "code",
      "source": [
        "products= pd.read_csv('/content/Products.csv')"
      ],
      "metadata": {
        "id": "yh9U70n4xchy"
      },
      "execution_count": 56,
      "outputs": []
    },
    {
      "cell_type": "code",
      "source": [
        "transactions= pd.read_csv('/content/Transactions.csv')"
      ],
      "metadata": {
        "id": "GS5toKZ9xeh6"
      },
      "execution_count": 57,
      "outputs": []
    },
    {
      "cell_type": "code",
      "source": [
        "data = transactions.merge(customers, on='CustomerID',how='left').merge(products, on='ProductID',how='left')"
      ],
      "metadata": {
        "id": "PCAvxRXBxiCh"
      },
      "execution_count": 58,
      "outputs": []
    },
    {
      "cell_type": "code",
      "source": [
        "customer_transactions = data.groupby(['CustomerID', 'ProductID'])['Quantity'].sum().unstack(fill_value=0)"
      ],
      "metadata": {
        "id": "Z-3Ik5nixvpZ"
      },
      "execution_count": 59,
      "outputs": []
    },
    {
      "cell_type": "code",
      "source": [
        "similarity_matrix = cosine_similarity(customer_transactions)"
      ],
      "metadata": {
        "id": "THDM7jjqydV7"
      },
      "execution_count": 60,
      "outputs": []
    },
    {
      "cell_type": "code",
      "source": [
        "similarity_df = pd.DataFrame(similarity_matrix, index=customer_transactions.index, columns=customer_transactions.index)"
      ],
      "metadata": {
        "id": "v1RH-PHoyhsv"
      },
      "execution_count": 61,
      "outputs": []
    },
    {
      "cell_type": "code",
      "source": [
        "#recommended top 3 similar customer\n",
        "def recommend_similar_customers(input_customer_id, similarity_df):\n",
        "    # Validate if the customer ID exists\n",
        "    if input_customer_id not in similarity_df.index:\n",
        "        return f\"CustomerID {input_customer_id} not found in the dataset. Please check the input.\"\n",
        "\n",
        "    # Compute top 3 similar customers excluding the customer itself\n",
        "    similar_customers = similarity_df.loc[input_customer_id].sort_values(ascending=False)[1:4]  # Exclude self\n",
        "    recommendations = [\n",
        "        {\"CustomerID\": cust_id, \"SimilarityScore\": round(score, 3)}\n",
        "        for cust_id, score in zip(similar_customers.index, similar_customers.values)\n",
        "    ]\n",
        "    return recommendations"
      ],
      "metadata": {
        "id": "a6DL7VF3ykzc"
      },
      "execution_count": 62,
      "outputs": []
    },
    {
      "cell_type": "code",
      "source": [
        "recommendations = recommend_similar_customers(user_input, similarity_df)"
      ],
      "metadata": {
        "id": "U5o__kCR2DPI"
      },
      "execution_count": 63,
      "outputs": []
    },
    {
      "cell_type": "code",
      "source": [
        "#user_input= input(\"Enter CustomerID: \").strip()"
      ],
      "metadata": {
        "id": "4K81fB9o0rjf"
      },
      "execution_count": 64,
      "outputs": []
    },
    {
      "cell_type": "markdown",
      "source": [
        "CODE TO STORE DATA INTO CSV FILE"
      ],
      "metadata": {
        "id": "UboEjzDg21Bc"
      }
    },
    {
      "cell_type": "code",
      "source": [
        "user_input= input(\"Enter CustomerID: \").strip()\n",
        "print(\"\\nTop 3 similar customers:\")\n",
        "if isinstance(recommendations, str):  # If the function returned an error message\n",
        "    print(recommendations)\n",
        "else:\n",
        "    for idx, rec in enumerate(recommendations, start=1):\n",
        "        print(f\"{idx}. CustomerID: {rec['CustomerID']}, Similarity Score: {rec['SimilarityScore']}\")"
      ],
      "metadata": {
        "colab": {
          "base_uri": "https://localhost:8080/"
        },
        "id": "3rYj-DSB2Q1Q",
        "outputId": "9eb6e9a5-2f1b-4c86-f133-bf4f3da231ff"
      },
      "execution_count": 65,
      "outputs": [
        {
          "output_type": "stream",
          "name": "stdout",
          "text": [
            "Enter CustomerID: C0025\n",
            "\n",
            "Top 3 similar customers:\n",
            "1. CustomerID: C0097, Similarity Score: 0.548\n",
            "2. CustomerID: C0194, Similarity Score: 0.47\n",
            "3. CustomerID: C0199, Similarity Score: 0.438\n"
          ]
        }
      ]
    },
    {
      "cell_type": "code",
      "source": [
        "\n",
        "\n",
        "# Function to save recommendations to a CSV file\n",
        "def save_recommendations_to_csv(input_customer_id, recommendations):\n",
        "    recommendations_df = pd.DataFrame(recommendations)\n",
        "    filename = f\"Kritika_Jain_Lookalike_.csv\"\n",
        "    recommendations_df.to_csv(filename, index=False)\n",
        "    print(f\"\\nRecommendations saved to {filename}\")\n",
        "\n",
        "\n"
      ],
      "metadata": {
        "id": "iG45APjC2XWD"
      },
      "execution_count": 68,
      "outputs": []
    },
    {
      "cell_type": "code",
      "source": [
        "# Output recommendations and save to CSV\n",
        "if isinstance(recommendations, str):\n",
        "    print(recommendations)\n",
        "else:\n",
        "\n",
        "    for idx, rec in enumerate(recommendations, start=1):\n",
        "        print(f\"{idx}. CustomerID: {rec['CustomerID']}, Similarity Score: {rec['SimilarityScore']}\")\n",
        "\n",
        "\n",
        "    save_recommendations_to_csv(user_input, recommendations)"
      ],
      "metadata": {
        "colab": {
          "base_uri": "https://localhost:8080/"
        },
        "id": "YHz5hR6R5aB6",
        "outputId": "0c7762f9-3683-4eee-a420-fae6350d82bb"
      },
      "execution_count": 69,
      "outputs": [
        {
          "output_type": "stream",
          "name": "stdout",
          "text": [
            "1. CustomerID: C0097, Similarity Score: 0.548\n",
            "2. CustomerID: C0194, Similarity Score: 0.47\n",
            "3. CustomerID: C0199, Similarity Score: 0.438\n",
            "\n",
            "Recommendations saved to Kritika_Jain_Lookalike_.csv\n"
          ]
        }
      ]
    },
    {
      "cell_type": "code",
      "source": [
        "#similarity_df.head()"
      ],
      "metadata": {
        "id": "UpkSE0RX5lIv"
      },
      "execution_count": 70,
      "outputs": []
    },
    {
      "cell_type": "code",
      "source": [],
      "metadata": {
        "id": "1jLvdS0K6fZI"
      },
      "execution_count": null,
      "outputs": []
    }
  ]
}